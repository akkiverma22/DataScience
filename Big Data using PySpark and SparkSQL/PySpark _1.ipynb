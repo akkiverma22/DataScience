{
 "cells": [
  {
   "cell_type": "markdown",
   "metadata": {},
   "source": [
    "# Part A"
   ]
  },
  {
   "cell_type": "markdown",
   "metadata": {},
   "source": [
    "### Data dictionary :\n",
    "* __RestGenInfo.csv__ contains :\n",
    "    * placeID - Uniqued Id of restaurants\n",
    "    * latitude - Location detail \n",
    "    * longitude - Location detail\n",
    "    * name - Name of the restaurant\n",
    "    * state - Name of the state \n",
    "    * alcohol - Constraints on having alcoholic beverages\n",
    "    * smoking_area - Information for smokers\n",
    "    * price - Pricing type of restaurant\n",
    "    * franchise - Does the restaurant have frachise\n",
    "    * area - open or close type of restaurant"
   ]
  },
  {
   "cell_type": "markdown",
   "metadata": {},
   "source": [
    "* __Cuisine.csv__ contains :\n",
    "    * placeID - Uniqued Id of restaurants\n",
    "    * Rcuisine - Different styles of food"
   ]
  },
  {
   "cell_type": "markdown",
   "metadata": {},
   "source": [
    "    \n",
    "* __PaymentMode.csv__ contains :\n",
    "    * placeID - Uniqued Id of restaurants\n",
    "    * Rpayment - Different modes of payment"
   ]
  },
  {
   "cell_type": "markdown",
   "metadata": {},
   "source": [
    "    \n",
    "* __parking.csv__ contains :\n",
    "     * placeID - Uniqued Id of restaurants\n",
    "     * parking_lot - Different types of parking available"
   ]
  },
  {
   "cell_type": "markdown",
   "metadata": {},
   "source": [
    "### Submit the executable code snippet for the below queries"
   ]
  },
  {
   "cell_type": "markdown",
   "metadata": {},
   "source": [
    "1) Set Python Spark Environment(1M)"
   ]
  },
  {
   "cell_type": "code",
   "execution_count": 1,
   "metadata": {},
   "outputs": [],
   "source": [
    "## Set Python - Spark environment.\n",
    "import os\n",
    "import sys\n",
    "os.environ[\"SPARK_HOME\"] = \"/usr/hdp/current/spark2-client\"\n",
    "os.environ[\"PYLIB\"] = os.environ[\"SPARK_HOME\"] + \"/python/lib\"\n",
    "sys.path.insert(0, os.environ[\"PYLIB\"] + \"/py4j-0.10.4-src.zip\")\n",
    "sys.path.insert(0, os.environ[\"PYLIB\"] + \"/pyspark.zip\")"
   ]
  },
  {
   "cell_type": "markdown",
   "metadata": {},
   "source": [
    "2) Create Spark context and session by setting master to local(1M)"
   ]
  },
  {
   "cell_type": "code",
   "execution_count": 2,
   "metadata": {},
   "outputs": [],
   "source": [
    "## Create  SparkSession\n",
    "from pyspark.sql import SparkSession\n",
    "from pyspark import SparkConf\n",
    "spark = SparkSession.builder\\\n",
    "        .appName(\"SparkDataFrames_and_SQL_on_Sales_Dataset\")\\\n",
    "        .master('local[*]')\\\n",
    "        .enableHiveSupport()\\\n",
    "        .config('spark.sql.warehouse.dir','hdfs://bigdata:8020/user/2019B42/spark-warehouse')\\\n",
    "        .getOrCreate()"
   ]
  },
  {
   "cell_type": "code",
   "execution_count": 3,
   "metadata": {},
   "outputs": [],
   "source": [
    "## import the libraries\n",
    "from pyspark.sql.types import *\n",
    "from pyspark.sql.functions import *"
   ]
  },
  {
   "cell_type": "markdown",
   "metadata": {},
   "source": [
    "3) Read all four following csv files in spark environment : (1M)\n",
    "* RestGenInfo.csv (read ? as nullValue)\n",
    "* Cuisine.csv\n",
    "* PaymentMode.csv\n",
    "* parking.csv"
   ]
  },
  {
   "cell_type": "code",
   "execution_count": 7,
   "metadata": {},
   "outputs": [],
   "source": [
    "## Read data and create a dataframe\n",
    "RestGen = spark.read.csv(header=True,nullValue=\"?\",inferSchema=True,\n",
    "                         ignoreLeadingWhiteSpace=True,ignoreTrailingWhiteSpace=True,                                                  \n",
    "                         path=\"file:///home/2019B42/PartA/RestGenInfo.csv\") "
   ]
  },
  {
   "cell_type": "code",
   "execution_count": 8,
   "metadata": {},
   "outputs": [],
   "source": [
    "## Read data and create a dataframe\n",
    "Cuisine = spark.read.csv(header=True,inferSchema=True,\n",
    "                         ignoreLeadingWhiteSpace=True,ignoreTrailingWhiteSpace=True,                                                  \n",
    "                         path=\"file:///home/2019B42/PartA/Cuisine.csv\") "
   ]
  },
  {
   "cell_type": "code",
   "execution_count": 9,
   "metadata": {},
   "outputs": [],
   "source": [
    "## Read data and create a dataframe\n",
    "Payment = spark.read.csv(header=True,inferSchema=True,\n",
    "                         ignoreLeadingWhiteSpace=True,ignoreTrailingWhiteSpace=True,                                                  \n",
    "                         path=\"file:///home/2019B42/PartA/PaymentMode.csv\") "
   ]
  },
  {
   "cell_type": "code",
   "execution_count": 10,
   "metadata": {},
   "outputs": [],
   "source": [
    "## Read data and create a dataframe\n",
    "Parking = spark.read.csv(header=True,inferSchema=True,\n",
    "                         ignoreLeadingWhiteSpace=True,ignoreTrailingWhiteSpace=True,                                                  \n",
    "                         path=\"file:///home/2019B42/PartA/parking.csv\") "
   ]
  },
  {
   "cell_type": "markdown",
   "metadata": {},
   "source": [
    "4) print schema for all four dataframes (1M)"
   ]
  },
  {
   "cell_type": "code",
   "execution_count": 11,
   "metadata": {},
   "outputs": [
    {
     "name": "stdout",
     "output_type": "stream",
     "text": [
      "root\n",
      " |-- placeID: integer (nullable = true)\n",
      " |-- latitude: double (nullable = true)\n",
      " |-- longitude: double (nullable = true)\n",
      " |-- name: string (nullable = true)\n",
      " |-- state: string (nullable = true)\n",
      " |-- alcohol: string (nullable = true)\n",
      " |-- smoking_area: string (nullable = true)\n",
      " |-- price: string (nullable = true)\n",
      " |-- franchise: string (nullable = true)\n",
      " |-- area: string (nullable = true)\n",
      "\n"
     ]
    }
   ],
   "source": [
    "RestGen.printSchema()"
   ]
  },
  {
   "cell_type": "code",
   "execution_count": 12,
   "metadata": {},
   "outputs": [
    {
     "name": "stdout",
     "output_type": "stream",
     "text": [
      "root\n",
      " |-- placeID: integer (nullable = true)\n",
      " |-- Rcuisine: string (nullable = true)\n",
      "\n"
     ]
    }
   ],
   "source": [
    "Cuisine.printSchema()"
   ]
  },
  {
   "cell_type": "code",
   "execution_count": 13,
   "metadata": {},
   "outputs": [
    {
     "name": "stdout",
     "output_type": "stream",
     "text": [
      "root\n",
      " |-- placeID: integer (nullable = true)\n",
      " |-- Rpayment: string (nullable = true)\n",
      "\n"
     ]
    }
   ],
   "source": [
    "Payment.printSchema()"
   ]
  },
  {
   "cell_type": "code",
   "execution_count": 14,
   "metadata": {},
   "outputs": [
    {
     "name": "stdout",
     "output_type": "stream",
     "text": [
      "root\n",
      " |-- placeID: integer (nullable = true)\n",
      " |-- parking_lot: string (nullable = true)\n",
      "\n"
     ]
    }
   ],
   "source": [
    "Parking.printSchema()"
   ]
  },
  {
   "cell_type": "markdown",
   "metadata": {},
   "source": [
    "5) Get summary statistics of all numerical columns from all four tables (1M)"
   ]
  },
  {
   "cell_type": "code",
   "execution_count": 62,
   "metadata": {},
   "outputs": [
    {
     "name": "stdout",
     "output_type": "stream",
     "text": [
      "+-------+------------------+-----------------+------------------+--------------------+----------+---------+------------+------+---------+------+\n",
      "|summary|           placeID|         latitude|         longitude|                name|     state|  alcohol|smoking_area| price|franchise|  area|\n",
      "+-------+------------------+-----------------+------------------+--------------------+----------+---------+------------+------+---------+------+\n",
      "|  count|               130|              130|               130|                 130|       112|      130|         130|   130|      130|   130|\n",
      "|   mean|134012.78461538462|21.85886321461537|-100.3429330284615|                null|      null|     null|        null|  null|     null|  null|\n",
      "| stddev|1140.6445817067201|  1.4968295813784|0.8605846022732131|                null|      null|     null|        null|  null|     null|  null|\n",
      "|    min|            132560|        18.859803|         -101.0286|Abondance Restaur...|   Morelos| Full_Bar|        none|  high|        f|closed|\n",
      "|    max|            135109|       23.7602683|       -99.1265059|                vips|Tamaulipas|Wine-Beer|     section|medium|        t|  open|\n",
      "+-------+------------------+-----------------+------------------+--------------------+----------+---------+------------+------+---------+------+\n",
      "\n"
     ]
    }
   ],
   "source": [
    "RestGen.describe().show()"
   ]
  },
  {
   "cell_type": "code",
   "execution_count": 18,
   "metadata": {},
   "outputs": [
    {
     "name": "stdout",
     "output_type": "stream",
     "text": [
      "+-------+------------------+----------+\n",
      "|summary|           placeID|  Rcuisine|\n",
      "+-------+------------------+----------+\n",
      "|  count|               916|       916|\n",
      "|   mean|132897.17467248908|      null|\n",
      "| stddev| 923.6017108449753|      null|\n",
      "|    min|            132001|    Afghan|\n",
      "|    max|            135110|Vietnamese|\n",
      "+-------+------------------+----------+\n",
      "\n"
     ]
    }
   ],
   "source": [
    "Cuisine.describe().show()"
   ]
  },
  {
   "cell_type": "code",
   "execution_count": 19,
   "metadata": {},
   "outputs": [
    {
     "name": "stdout",
     "output_type": "stream",
     "text": [
      "+-------+------------------+-----------------+\n",
      "|summary|           placeID|         Rpayment|\n",
      "+-------+------------------+-----------------+\n",
      "|  count|              1315|             1315|\n",
      "|   mean|133220.09353612168|             null|\n",
      "| stddev| 1059.006504887159|             null|\n",
      "|    min|            132002| American_Express|\n",
      "|    max|            135110|gift_certificates|\n",
      "+-------+------------------+-----------------+\n",
      "\n"
     ]
    }
   ],
   "source": [
    "Payment.describe().show()"
   ]
  },
  {
   "cell_type": "code",
   "execution_count": 20,
   "metadata": {},
   "outputs": [
    {
     "name": "stdout",
     "output_type": "stream",
     "text": [
      "+-------+------------------+-----------+\n",
      "|summary|           placeID|parking_lot|\n",
      "+-------+------------------+-----------+\n",
      "|  count|               702|        702|\n",
      "|   mean|133180.94586894586|       null|\n",
      "| stddev| 942.0442381154141|       null|\n",
      "|    min|            132012|        fee|\n",
      "|    max|            135111|        yes|\n",
      "+-------+------------------+-----------+\n",
      "\n"
     ]
    }
   ],
   "source": [
    "Parking.describe().show()"
   ]
  },
  {
   "cell_type": "markdown",
   "metadata": {},
   "source": [
    "6) Print number of rows and columns in each table along with description using print function (2M)"
   ]
  },
  {
   "cell_type": "code",
   "execution_count": 21,
   "metadata": {},
   "outputs": [
    {
     "name": "stdout",
     "output_type": "stream",
     "text": [
      "No. of Columns of RestGen = 10\n",
      "No. of Rows of RestGen = 130\n"
     ]
    }
   ],
   "source": [
    "print(\"No. of Columns of RestGen = {}\".format(len(RestGen.columns)))\n",
    "print('No. of Rows of RestGen = {}'.format(RestGen.count()))"
   ]
  },
  {
   "cell_type": "code",
   "execution_count": 22,
   "metadata": {},
   "outputs": [
    {
     "name": "stdout",
     "output_type": "stream",
     "text": [
      "No. of Columns of Cuisine = 2\n",
      "No. of Rows of Cuisine = 916\n"
     ]
    }
   ],
   "source": [
    "print(\"No. of Columns of Cuisine = {}\".format(len(Cuisine.columns)))\n",
    "print('No. of Rows of Cuisine = {}'.format(Cuisine.count()))"
   ]
  },
  {
   "cell_type": "code",
   "execution_count": 23,
   "metadata": {},
   "outputs": [
    {
     "name": "stdout",
     "output_type": "stream",
     "text": [
      "No. of Columns of Payment = 2\n",
      "No. of Rows of Payment = 1315\n"
     ]
    }
   ],
   "source": [
    "print(\"No. of Columns of Payment = {}\".format(len(Payment.columns)))\n",
    "print('No. of Rows of Payment = {}'.format(Payment.count()))"
   ]
  },
  {
   "cell_type": "code",
   "execution_count": 25,
   "metadata": {},
   "outputs": [
    {
     "name": "stdout",
     "output_type": "stream",
     "text": [
      "No. of Columns of Parking = 2\n",
      "No. of Rows of Parking = 702\n"
     ]
    }
   ],
   "source": [
    "print(\"No. of Columns of Parking = {}\".format(len(Parking.columns)))\n",
    "print('No. of Rows of Parking = {}'.format(Parking.count()))"
   ]
  },
  {
   "cell_type": "markdown",
   "metadata": {},
   "source": [
    "7) Check for null values in all the four tables (2M)"
   ]
  },
  {
   "cell_type": "code",
   "execution_count": 26,
   "metadata": {},
   "outputs": [
    {
     "name": "stdout",
     "output_type": "stream",
     "text": [
      "+-------+--------+---------+----+-----+-------+------------+-----+---------+----+\n",
      "|placeID|latitude|longitude|name|state|alcohol|smoking_area|price|franchise|area|\n",
      "+-------+--------+---------+----+-----+-------+------------+-----+---------+----+\n",
      "|0      |0       |0        |0   |18   |0      |0           |0    |0        |0   |\n",
      "+-------+--------+---------+----+-----+-------+------------+-----+---------+----+\n",
      "\n"
     ]
    }
   ],
   "source": [
    "##RestGen\n",
    "RestGen.select([count(when(isnan(c) | col(c).isNull(), c)).alias(c) for c in RestGen.columns]).show(truncate=False)"
   ]
  },
  {
   "cell_type": "code",
   "execution_count": 27,
   "metadata": {},
   "outputs": [
    {
     "name": "stdout",
     "output_type": "stream",
     "text": [
      "+-------+--------+\n",
      "|placeID|Rcuisine|\n",
      "+-------+--------+\n",
      "|0      |0       |\n",
      "+-------+--------+\n",
      "\n"
     ]
    }
   ],
   "source": [
    "##Cuisine\n",
    "Cuisine.select([count(when(isnan(c) | col(c).isNull(), c)).alias(c) for c in Cuisine.columns]).show(truncate=False)"
   ]
  },
  {
   "cell_type": "code",
   "execution_count": 28,
   "metadata": {},
   "outputs": [
    {
     "name": "stdout",
     "output_type": "stream",
     "text": [
      "+-------+--------+\n",
      "|placeID|Rpayment|\n",
      "+-------+--------+\n",
      "|0      |0       |\n",
      "+-------+--------+\n",
      "\n"
     ]
    }
   ],
   "source": [
    "##Payment\n",
    "Payment.select([count(when(isnan(c) | col(c).isNull(), c)).alias(c) for c in Payment.columns]).show(truncate=False)"
   ]
  },
  {
   "cell_type": "code",
   "execution_count": 29,
   "metadata": {},
   "outputs": [
    {
     "name": "stdout",
     "output_type": "stream",
     "text": [
      "+-------+-----------+\n",
      "|placeID|parking_lot|\n",
      "+-------+-----------+\n",
      "|0      |0          |\n",
      "+-------+-----------+\n",
      "\n"
     ]
    }
   ],
   "source": [
    "##Parking\n",
    "Parking.select([count(when(isnan(c) | col(c).isNull(), c)).alias(c) for c in Parking.columns]).show(truncate=False)"
   ]
  },
  {
   "cell_type": "markdown",
   "metadata": {},
   "source": [
    "7) Drop the observations which contains Null Values in all four tables(if any) (1M)"
   ]
  },
  {
   "cell_type": "code",
   "execution_count": 32,
   "metadata": {},
   "outputs": [],
   "source": [
    "## Cuisine, Parking and Payment does not have any Null values\n",
    "RestGenFinal = RestGen.dropna()"
   ]
  },
  {
   "cell_type": "code",
   "execution_count": 33,
   "metadata": {},
   "outputs": [
    {
     "name": "stdout",
     "output_type": "stream",
     "text": [
      "+-------+--------+---------+----+-----+-------+------------+-----+---------+----+\n",
      "|placeID|latitude|longitude|name|state|alcohol|smoking_area|price|franchise|area|\n",
      "+-------+--------+---------+----+-----+-------+------------+-----+---------+----+\n",
      "|0      |0       |0        |0   |0    |0      |0           |0    |0        |0   |\n",
      "+-------+--------+---------+----+-----+-------+------------+-----+---------+----+\n",
      "\n"
     ]
    }
   ],
   "source": [
    "## verify if the Null values are removed\n",
    "RestGenFinal.select([count(when(isnan(c) | col(c).isNull(), c)).alias(c) for c in RestGenFinal.columns]).show(truncate=False)"
   ]
  },
  {
   "cell_type": "markdown",
   "metadata": {},
   "source": [
    "8) create tempView for all four tables (2M)"
   ]
  },
  {
   "cell_type": "code",
   "execution_count": 51,
   "metadata": {},
   "outputs": [],
   "source": [
    "## Create view/table for RestGen\n",
    "RestGenFinal.createOrReplaceTempView(\"RestGenTable\")"
   ]
  },
  {
   "cell_type": "code",
   "execution_count": 39,
   "metadata": {},
   "outputs": [],
   "source": [
    "## Create view/table for Cuisine\n",
    "Cuisine.createOrReplaceTempView(\"CuisineTable\")"
   ]
  },
  {
   "cell_type": "code",
   "execution_count": 40,
   "metadata": {},
   "outputs": [],
   "source": [
    "## Create view/table for Payment\n",
    "Payment.createOrReplaceTempView(\"PaymentTable\")"
   ]
  },
  {
   "cell_type": "code",
   "execution_count": 41,
   "metadata": {},
   "outputs": [],
   "source": [
    "## Create view/table for Parking\n",
    "Parking.createOrReplaceTempView(\"ParkingTable\")"
   ]
  },
  {
   "cell_type": "code",
   "execution_count": 34,
   "metadata": {},
   "outputs": [
    {
     "data": {
      "text/plain": [
       "DataFrame[]"
      ]
     },
     "execution_count": 34,
     "metadata": {},
     "output_type": "execute_result"
    }
   ],
   "source": [
    "spark.sql(\"\"\"use paramita\"\"\")"
   ]
  },
  {
   "cell_type": "code",
   "execution_count": 64,
   "metadata": {},
   "outputs": [
    {
     "name": "stdout",
     "output_type": "stream",
     "text": [
      "+--------+------------+-----------+\n",
      "|database|   tableName|isTemporary|\n",
      "+--------+------------+-----------+\n",
      "|paramita|          t3|      false|\n",
      "|        |cuisinetable|       true|\n",
      "|        |parkingtable|       true|\n",
      "|        |paymenttable|       true|\n",
      "|        |restgentable|       true|\n",
      "+--------+------------+-----------+\n",
      "\n"
     ]
    }
   ],
   "source": [
    "spark.sql(\"\"\"show tables\"\"\").show()"
   ]
  },
  {
   "cell_type": "markdown",
   "metadata": {},
   "source": [
    "### Submit the executable SparkSQL code snippet for the below queries"
   ]
  },
  {
   "cell_type": "markdown",
   "metadata": {},
   "source": [
    "9) print count of distinct restaurants in each state with count column renamed to \"numberOfHotels\" (3M)"
   ]
  },
  {
   "cell_type": "code",
   "execution_count": 65,
   "metadata": {},
   "outputs": [
    {
     "name": "stdout",
     "output_type": "stream",
     "text": [
      "+----------+--------------+\n",
      "|     state|numberOfHotels|\n",
      "+----------+--------------+\n",
      "|   Morelos|            20|\n",
      "|       SLP|            76|\n",
      "|Tamaulipas|            16|\n",
      "+----------+--------------+\n",
      "\n"
     ]
    }
   ],
   "source": [
    "spark.sql(\"SELECT state, count(name) AS numberOfHotels FROM RestGenTable GROUP BY state\").show()"
   ]
  },
  {
   "cell_type": "markdown",
   "metadata": {},
   "source": [
    "10) Print the different categories in smoking_area column from restoGenTable (2M)"
   ]
  },
  {
   "cell_type": "code",
   "execution_count": 54,
   "metadata": {},
   "outputs": [
    {
     "name": "stdout",
     "output_type": "stream",
     "text": [
      "+-------------+\n",
      "| smoking_area|\n",
      "+-------------+\n",
      "|         none|\n",
      "|    permitted|\n",
      "|      section|\n",
      "|not permitted|\n",
      "|  only at bar|\n",
      "+-------------+\n",
      "\n"
     ]
    }
   ],
   "source": [
    "spark.sql(\"SELECT DISTINCT(smoking_area) FROM RestGenTable\").show()"
   ]
  },
  {
   "cell_type": "markdown",
   "metadata": {},
   "source": [
    "11) Print the distinct restaurant names which has valet parking (5M)"
   ]
  },
  {
   "cell_type": "code",
   "execution_count": 56,
   "metadata": {},
   "outputs": [
    {
     "name": "stdout",
     "output_type": "stream",
     "text": [
      "+--------------------+\n",
      "|                name|\n",
      "+--------------------+\n",
      "|La Posada del Virrey|\n",
      "+--------------------+\n",
      "\n"
     ]
    }
   ],
   "source": [
    "spark.sql(\"\"\"SELECT DISTINCT(RestGenTable.name) FROM RestGenTable INNER JOIN ParkingTable\n",
    "  ON RestGenTable.placeID = ParkingTable.placeID WHERE ParkingTable.parking_lot = 'valet parking' \"\"\").show()"
   ]
  },
  {
   "cell_type": "markdown",
   "metadata": {},
   "source": [
    "12) Print the distinct count of restaurants(as numberOfHotels) for each payment modes and area and order based on numberOfHotels in descending order. (8M) "
   ]
  },
  {
   "cell_type": "code",
   "execution_count": 58,
   "metadata": {},
   "outputs": [
    {
     "name": "stdout",
     "output_type": "stream",
     "text": [
      "+-------------------+------+--------------+\n",
      "|           Rpayment|  area|numberOfHotels|\n",
      "+-------------------+------+--------------+\n",
      "|               cash|closed|            92|\n",
      "|               VISA|closed|            44|\n",
      "|MasterCard-Eurocard|closed|            40|\n",
      "|   American_Express|closed|            24|\n",
      "|               cash|  open|            11|\n",
      "|   bank_debit_cards|closed|            11|\n",
      "|               VISA|  open|             3|\n",
      "|MasterCard-Eurocard|  open|             2|\n",
      "|   bank_debit_cards|  open|             1|\n",
      "|   American_Express|  open|             1|\n",
      "|      Carte_Blanche|closed|             1|\n",
      "+-------------------+------+--------------+\n",
      "\n"
     ]
    }
   ],
   "source": [
    "spark.sql(\"\"\"SELECT PaymentTable.Rpayment, RestGenTable.area, COUNT(RestGenTable.name) AS numberOfHotels FROM RestGenTable INNER JOIN PaymentTable\n",
    "  ON RestGenTable.placeID = PaymentTable.placeID GROUP BY PaymentTable.Rpayment,RestGenTable.area ORDER BY numberOfHotels\n",
    "  DESC \"\"\").show()"
   ]
  },
  {
   "cell_type": "markdown",
   "metadata": {},
   "source": [
    "13) Print the restaurant names and their corresponding restaurant cuisine styles, price, location details(latitude, longitude) and smoking_area informations only for those which are located in Morelos state and have closed roofing, also order based on price (10M)"
   ]
  },
  {
   "cell_type": "code",
   "execution_count": 59,
   "metadata": {},
   "outputs": [
    {
     "name": "stdout",
     "output_type": "stream",
     "text": [
      "+--------------------+---------------+------+----------+-----------+-------------+\n",
      "|                name|       Rcuisine| price|  latitude|  longitude| smoking_area|\n",
      "+--------------------+---------------+------+----------+-----------+-------------+\n",
      "|Restaurant and Ba...|Bar_Pub_Brewery|  high| 18.948657| -99.235361|      section|\n",
      "|Restaurant and Ba...|            Bar|  high| 18.948657| -99.235361|      section|\n",
      "|Restaurant Las Ma...|  International|  high| 18.928798| -99.239513|         none|\n",
      "|Restaurant Bar Co...|            Bar|   low| 18.875011| -99.159422|         none|\n",
      "|   Cafeteria cenidet|      Cafeteria|   low|18.8760113|-99.2198896|not permitted|\n",
      "|    McDonalds Centro|       American|   low|18.9222904| -99.234332|not permitted|\n",
      "|              Subway|      Fast_Food|   low| 18.933537| -99.222497|not permitted|\n",
      "|     Kiku Cuernavaca|       Japanese|medium| 18.915421| -99.184871|         none|\n",
      "|  Mariscos Tia Licha|         Family|medium|18.9257734|-99.2326355|not permitted|\n",
      "|              Mikasa|       Japanese|medium|18.9101777|-99.2315438|         none|\n",
      "+--------------------+---------------+------+----------+-----------+-------------+\n",
      "\n"
     ]
    }
   ],
   "source": [
    "spark.sql(\"\"\"SELECT RestGenTable.name, CuisineTable.Rcuisine, RestGenTable.price,\n",
    "   RestGenTable.latitude, RestGenTable.longitude, RestGenTable.smoking_area\n",
    "   FROM RestGenTable INNER JOIN CuisineTable\n",
    "  ON RestGenTable.placeID = CuisineTable.placeID WHERE RestGenTable.state = 'Morelos' \n",
    "  AND RestGenTable.area = 'closed' ORDER BY RestGenTable.price \"\"\").show()"
   ]
  }
 ],
 "metadata": {
  "kernelspec": {
   "display_name": "Python 3",
   "language": "python",
   "name": "python3"
  },
  "language_info": {
   "codemirror_mode": {
    "name": "ipython",
    "version": 3
   },
   "file_extension": ".py",
   "mimetype": "text/x-python",
   "name": "python",
   "nbconvert_exporter": "python",
   "pygments_lexer": "ipython3",
   "version": "3.6.5"
  }
 },
 "nbformat": 4,
 "nbformat_minor": 2
}
