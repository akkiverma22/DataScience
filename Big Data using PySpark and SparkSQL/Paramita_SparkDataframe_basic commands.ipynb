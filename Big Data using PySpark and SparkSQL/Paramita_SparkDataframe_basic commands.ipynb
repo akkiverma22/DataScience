{
 "cells": [
  {
   "cell_type": "code",
   "execution_count": 1,
   "metadata": {},
   "outputs": [],
   "source": [
    "import os\n",
    "import sys\n",
    "os.environ[\"SPARK_HOME\"] = \"/usr/hdp/current/spark2-client\"\n",
    "os.environ[\"PYLIB\"] = os.environ[\"SPARK_HOME\"] + \"/python/lib\"\n",
    "sys.path.insert(0, os.environ[\"PYLIB\"] + \"/py4j-0.10.4-src.zip\")\n",
    "sys.path.insert(0, os.environ[\"PYLIB\"] + \"/pyspark.zip\")"
   ]
  },
  {
   "cell_type": "code",
   "execution_count": 2,
   "metadata": {},
   "outputs": [],
   "source": [
    "from pyspark.conf import SparkConf\n",
    "from pyspark import SparkContext\n",
    "from pyspark.sql import SparkSession\n",
    "\n",
    "conf = SparkConf().setAppName(\"Income Data Set\").setMaster('local')\n",
    "sc = SparkContext(conf=conf)\n",
    "spark = SparkSession(sc)"
   ]
  },
  {
   "cell_type": "code",
   "execution_count": 3,
   "metadata": {},
   "outputs": [
    {
     "data": {
      "text/html": [
       "\n",
       "        <div>\n",
       "            <p><b>SparkContext</b></p>\n",
       "\n",
       "            <p><a href=\"http://w.insofe.edu.in:4047\">Spark UI</a></p>\n",
       "\n",
       "            <dl>\n",
       "              <dt>Version</dt>\n",
       "                <dd><code>v2.3.0.2.6.5.0-292</code></dd>\n",
       "              <dt>Master</dt>\n",
       "                <dd><code>local</code></dd>\n",
       "              <dt>AppName</dt>\n",
       "                <dd><code>Income Data Set</code></dd>\n",
       "            </dl>\n",
       "        </div>\n",
       "        "
      ],
      "text/plain": [
       "<SparkContext master=local appName=Income Data Set>"
      ]
     },
     "execution_count": 3,
     "metadata": {},
     "output_type": "execute_result"
    }
   ],
   "source": [
    "sc"
   ]
  },
  {
   "cell_type": "code",
   "execution_count": 4,
   "metadata": {},
   "outputs": [],
   "source": [
    "from pyspark.sql.types import *\n",
    "from pyspark.sql.functions import *"
   ]
  },
  {
   "cell_type": "code",
   "execution_count": 5,
   "metadata": {},
   "outputs": [],
   "source": [
    "## Define Schema\n",
    "IncomeDataSchema = StructType([\n",
    "    StructField(\"age\", IntegerType(), True),\n",
    "    StructField(\"workclass\", StringType(), True),\n",
    "    StructField(\"fnlwgt\", FloatType(), True),\n",
    "    StructField(\"education\", StringType(), True),\n",
    "    StructField(\"education_num\", FloatType(), True),\n",
    "    StructField(\"maritalstatus\", StringType(), True),\n",
    "    StructField(\"occupation\", StringType(), True),\n",
    "    StructField(\"relationship\", StringType(), True),        \n",
    "    StructField(\"race\", StringType(), True),\n",
    "    StructField(\"sex\", StringType(), True),\n",
    "    StructField(\"capitalgain\", FloatType(), True),\n",
    "    StructField(\"capitalloss\", FloatType(), True),\n",
    "    StructField(\"hoursperweek\", FloatType(), True),\n",
    "    StructField(\"nativecountry\", StringType(), True),\n",
    "    StructField(\"class\", StringType(), True)])"
   ]
  },
  {
   "cell_type": "code",
   "execution_count": 34,
   "metadata": {},
   "outputs": [],
   "source": [
    "## Read data and create a dataframe\n",
    "incomeDF = spark.read.csv(header=None,nullValue=\"?\",\n",
    "                         ignoreLeadingWhiteSpace=True,ignoreTrailingWhiteSpace=True,schema=IncomeDataSchema,                                                  \n",
    "                         path=\"file:///home/2019B42/Lab04Spark/20180721_Batch42_CSE7321c_Lab03_Incomedata_PC.csv\") "
   ]
  },
  {
   "cell_type": "code",
   "execution_count": 35,
   "metadata": {},
   "outputs": [
    {
     "name": "stdout",
     "output_type": "stream",
     "text": [
      "root\n",
      " |-- age: integer (nullable = true)\n",
      " |-- workclass: string (nullable = true)\n",
      " |-- fnlwgt: float (nullable = true)\n",
      " |-- education: string (nullable = true)\n",
      " |-- education_num: float (nullable = true)\n",
      " |-- maritalstatus: string (nullable = true)\n",
      " |-- occupation: string (nullable = true)\n",
      " |-- relationship: string (nullable = true)\n",
      " |-- race: string (nullable = true)\n",
      " |-- sex: string (nullable = true)\n",
      " |-- capitalgain: float (nullable = true)\n",
      " |-- capitalloss: float (nullable = true)\n",
      " |-- hoursperweek: float (nullable = true)\n",
      " |-- nativecountry: string (nullable = true)\n",
      " |-- class: string (nullable = true)\n",
      "\n"
     ]
    }
   ],
   "source": [
    "incomeDF.printSchema()"
   ]
  },
  {
   "cell_type": "code",
   "execution_count": 8,
   "metadata": {},
   "outputs": [
    {
     "name": "stdout",
     "output_type": "stream",
     "text": [
      "No. of Columns = 15\n",
      "No. of Records = 32561\n"
     ]
    }
   ],
   "source": [
    "print(\"No. of Columns = {}\".format(len(incomeDF.columns)))\n",
    "\n",
    "print('No. of Records = {}'.format(incomeDF.count()))"
   ]
  },
  {
   "cell_type": "code",
   "execution_count": 36,
   "metadata": {},
   "outputs": [
    {
     "name": "stdout",
     "output_type": "stream",
     "text": [
      "+---+---------+------+---------+-------------+-------------+----------+------------+----+---+-----------+-----------+------------+-------------+-----+\n",
      "|age|workclass|fnlwgt|education|education_num|maritalstatus|occupation|relationship|race|sex|capitalgain|capitalloss|hoursperweek|nativecountry|class|\n",
      "+---+---------+------+---------+-------------+-------------+----------+------------+----+---+-----------+-----------+------------+-------------+-----+\n",
      "|0  |1836     |0     |0        |0            |0            |1843      |0           |0   |0  |0          |0          |0           |583          |0    |\n",
      "+---+---------+------+---------+-------------+-------------+----------+------------+----+---+-----------+-----------+------------+-------------+-----+\n",
      "\n"
     ]
    }
   ],
   "source": [
    "## count null values\n",
    "incomeDF.select([count(when(isnan(c) | col(c).isNull(), c)).alias(c) for c in incomeDF.columns]).show(truncate=False)"
   ]
  },
  {
   "cell_type": "code",
   "execution_count": 10,
   "metadata": {},
   "outputs": [],
   "source": [
    "## drop the rows with NA values\n",
    "incomeDF = incomeDF.dropna()"
   ]
  },
  {
   "cell_type": "code",
   "execution_count": 11,
   "metadata": {},
   "outputs": [
    {
     "name": "stdout",
     "output_type": "stream",
     "text": [
      "+---+---------+------+---------+-------------+-------------+----------+------------+----+---+-----------+-----------+------------+-------------+-----+\n",
      "|age|workclass|fnlwgt|education|education_num|maritalstatus|occupation|relationship|race|sex|capitalgain|capitalloss|hoursperweek|nativecountry|class|\n",
      "+---+---------+------+---------+-------------+-------------+----------+------------+----+---+-----------+-----------+------------+-------------+-----+\n",
      "|0  |0        |0     |0        |0            |0            |0         |0           |0   |0  |0          |0          |0           |0            |0    |\n",
      "+---+---------+------+---------+-------------+-------------+----------+------------+----+---+-----------+-----------+------------+-------------+-----+\n",
      "\n"
     ]
    }
   ],
   "source": [
    "## verify\n",
    "incomeDF.select([count(when(isnan(c) | col(c).isNull(), c)).alias(c) for c in incomeDF.columns]).show(truncate=False)"
   ]
  },
  {
   "cell_type": "code",
   "execution_count": 12,
   "metadata": {},
   "outputs": [
    {
     "name": "stdout",
     "output_type": "stream",
     "text": [
      "+------+--------------------+-----+\n",
      "|   sex|       maritalstatus|count|\n",
      "+------+--------------------+-----+\n",
      "|Female|   Married-AF-spouse|   12|\n",
      "|Female|           Separated|  574|\n",
      "|Female|             Widowed|  686|\n",
      "|Female|            Divorced| 2529|\n",
      "|Female|  Married-civ-spouse| 1480|\n",
      "|Female|       Never-married| 4312|\n",
      "|Female|Married-spouse-ab...|  189|\n",
      "|  Male|   Married-AF-spouse|    9|\n",
      "|  Male|             Widowed|  141|\n",
      "|  Male|            Divorced| 1685|\n",
      "|  Male|Married-spouse-ab...|  181|\n",
      "|  Male|  Married-civ-spouse|12585|\n",
      "|  Male|           Separated|  365|\n",
      "|  Male|       Never-married| 5414|\n",
      "+------+--------------------+-----+\n",
      "\n"
     ]
    }
   ],
   "source": [
    "## group by gender and maritalstatus\n",
    "incomeDF.groupBy(\"sex\", \"maritalstatus\").count().orderBy(incomeDF.sex).show()"
   ]
  },
  {
   "cell_type": "code",
   "execution_count": 13,
   "metadata": {},
   "outputs": [
    {
     "name": "stdout",
     "output_type": "stream",
     "text": [
      "+------+\n",
      "|target|\n",
      "+------+\n",
      "| <=50K|\n",
      "| <=50K|\n",
      "| <=50K|\n",
      "| <=50K|\n",
      "| <=50K|\n",
      "+------+\n",
      "only showing top 5 rows\n",
      "\n"
     ]
    }
   ],
   "source": [
    "## column references\n",
    "incomeDF.select(expr(\"class AS target\")).show(5)"
   ]
  },
  {
   "cell_type": "code",
   "execution_count": 14,
   "metadata": {},
   "outputs": [
    {
     "name": "stdout",
     "output_type": "stream",
     "text": [
      "+---+----------------+--------+---------+-------------+------------------+-----------------+-------------+-----+----+-----------+-----------+------------+-------------+-----+---------+\n",
      "|age|workclass       |fnlwgt  |education|education_num|maritalstatus     |occupation       |relationship |race |sex |capitalgain|capitalloss|hoursperweek|nativecountry|class|totalgain|\n",
      "+---+----------------+--------+---------+-------------+------------------+-----------------+-------------+-----+----+-----------+-----------+------------+-------------+-----+---------+\n",
      "|39 |State-gov       |77516.0 |Bachelors|13.0         |Never-married     |Adm-clerical     |Not-in-family|White|Male|2174.0     |0.0        |40.0        |United-States|<=50K|2174.0   |\n",
      "|50 |Self-emp-not-inc|83311.0 |Bachelors|13.0         |Married-civ-spouse|Exec-managerial  |Husband      |White|Male|0.0        |0.0        |13.0        |United-States|<=50K|0.0      |\n",
      "|38 |Private         |215646.0|HS-grad  |9.0          |Divorced          |Handlers-cleaners|Not-in-family|White|Male|0.0        |0.0        |40.0        |United-States|<=50K|0.0      |\n",
      "|53 |Private         |234721.0|11th     |7.0          |Married-civ-spouse|Handlers-cleaners|Husband      |Black|Male|0.0        |0.0        |40.0        |United-States|<=50K|0.0      |\n",
      "+---+----------------+--------+---------+-------------+------------------+-----------------+-------------+-----+----+-----------+-----------+------------+-------------+-----+---------+\n",
      "only showing top 4 rows\n",
      "\n"
     ]
    }
   ],
   "source": [
    "## adding a new column total gain = capitalgain+capitalloss\n",
    "incomeDF = incomeDF.withColumn(\"totalgain\", lit(1))\n",
    "incomeDF = incomeDF.withColumn(\"totalgain\", incomeDF[\"capitalgain\"] + incomeDF[\"capitalloss\"])\n",
    "#tempDF = trainDF.withColumn(\"SameCategoryCode\", trainDF[\"Product_Category_1\"] == trainDF[\"Product_Category_2\"])\n",
    "incomeDF.show(4, truncate = False)"
   ]
  },
  {
   "cell_type": "code",
   "execution_count": 15,
   "metadata": {},
   "outputs": [
    {
     "name": "stdout",
     "output_type": "stream",
     "text": [
      "+---+----------------+--------+---------+-------------+------------------+-----------------+-------------+-----+----+------------+-------------+-----+---------+\n",
      "|age|workclass       |fnlwgt  |education|education_num|maritalstatus     |occupation       |relationship |race |sex |hoursperweek|nativecountry|class|totalgain|\n",
      "+---+----------------+--------+---------+-------------+------------------+-----------------+-------------+-----+----+------------+-------------+-----+---------+\n",
      "|39 |State-gov       |77516.0 |Bachelors|13.0         |Never-married     |Adm-clerical     |Not-in-family|White|Male|40.0        |United-States|<=50K|2174.0   |\n",
      "|50 |Self-emp-not-inc|83311.0 |Bachelors|13.0         |Married-civ-spouse|Exec-managerial  |Husband      |White|Male|13.0        |United-States|<=50K|0.0      |\n",
      "|38 |Private         |215646.0|HS-grad  |9.0          |Divorced          |Handlers-cleaners|Not-in-family|White|Male|40.0        |United-States|<=50K|0.0      |\n",
      "|53 |Private         |234721.0|11th     |7.0          |Married-civ-spouse|Handlers-cleaners|Husband      |Black|Male|40.0        |United-States|<=50K|0.0      |\n",
      "+---+----------------+--------+---------+-------------+------------------+-----------------+-------------+-----+----+------------+-------------+-----+---------+\n",
      "only showing top 4 rows\n",
      "\n"
     ]
    }
   ],
   "source": [
    "## remove the capitalgain and capitalloss columns\n",
    "incomeDF = incomeDF.drop(\"capitalgain\",\"capitalloss\")\n",
    "incomeDF.show(4, truncate = False)"
   ]
  },
  {
   "cell_type": "code",
   "execution_count": 16,
   "metadata": {},
   "outputs": [
    {
     "name": "stdout",
     "output_type": "stream",
     "text": [
      "Distinct values in education in the dataset are 16\n"
     ]
    }
   ],
   "source": [
    "## find distinct values of education\n",
    "print(\"Distinct values in education in the dataset are {}\".format(incomeDF.select('education').distinct().count()))"
   ]
  },
  {
   "cell_type": "code",
   "execution_count": 17,
   "metadata": {},
   "outputs": [
    {
     "name": "stdout",
     "output_type": "stream",
     "text": [
      "+----------------+-------+-------------+--------------+---------+---------+----+\n",
      "|sex_relationship|Husband|Not-in-family|Other-relative|Own-child|Unmarried|Wife|\n",
      "+----------------+-------+-------------+--------------+---------+---------+----+\n",
      "|            Male|  12462|         4160|           503|     2505|      749|   1|\n",
      "|          Female|      1|         3566|           386|     1961|     2463|1405|\n",
      "+----------------+-------+-------------+--------------+---------+---------+----+\n",
      "\n"
     ]
    }
   ],
   "source": [
    "## Pairwise frequencies\n",
    "incomeDF.crosstab('sex', 'relationship').show()"
   ]
  },
  {
   "cell_type": "code",
   "execution_count": 18,
   "metadata": {},
   "outputs": [
    {
     "name": "stdout",
     "output_type": "stream",
     "text": [
      "+------+-----------+\n",
      "|   sex|max(fnlwgt)|\n",
      "+------+-----------+\n",
      "|Female|  1484705.0|\n",
      "|  Male|  1455435.0|\n",
      "+------+-----------+\n",
      "\n",
      "+------+-----------+\n",
      "|   sex|min(fnlwgt)|\n",
      "+------+-----------+\n",
      "|Female|    19395.0|\n",
      "|  Male|    13769.0|\n",
      "+------+-----------+\n",
      "\n"
     ]
    }
   ],
   "source": [
    "## min and max fnlwgt\n",
    "incomeDF.groupBy(\"sex\").max(\"fnlwgt\").show()\n",
    "incomeDF.groupBy(\"sex\").min(\"fnlwgt\").show()"
   ]
  },
  {
   "cell_type": "code",
   "execution_count": 19,
   "metadata": {},
   "outputs": [
    {
     "name": "stdout",
     "output_type": "stream",
     "text": [
      "+------+--------------+\n",
      "|   sex|sum(totalgain)|\n",
      "+------+--------------+\n",
      "|Female|     6173572.0|\n",
      "|  Male|    2.942906E7|\n",
      "+------+--------------+\n",
      "\n"
     ]
    }
   ],
   "source": [
    "## sum of total gain\n",
    "incomeDF.groupBy(\"sex\").sum(\"totalgain\").show()"
   ]
  },
  {
   "cell_type": "code",
   "execution_count": 20,
   "metadata": {},
   "outputs": [
    {
     "name": "stdout",
     "output_type": "stream",
     "text": [
      "+------------------+------------------+\n",
      "|              race|       avg(fnlwgt)|\n",
      "+------------------+------------------+\n",
      "|             Other| 195772.2380952381|\n",
      "|Amer-Indian-Eskimo|123491.94405594406|\n",
      "|             White| 187285.0021594108|\n",
      "|Asian-Pac-Islander|          159337.4|\n",
      "|             Black| 228807.4554490593|\n",
      "+------------------+------------------+\n",
      "\n"
     ]
    }
   ],
   "source": [
    "## avg fnlwgt\n",
    "incomeDF.groupBy(\"race\").avg(\"fnlwgt\").show()"
   ]
  },
  {
   "cell_type": "code",
   "execution_count": 21,
   "metadata": {},
   "outputs": [
    {
     "name": "stdout",
     "output_type": "stream",
     "text": [
      "+--------------------+--------------------+------------------+-------------------+\n",
      "|     var_pop(fnlwgt)|    var_samp(fnlwgt)|stddev_pop(fnlwgt)|stddev_samp(fnlwgt)|\n",
      "+--------------------+--------------------+------------------+-------------------+\n",
      "|1.116218030626028...|1.116255039280602...|105651.22008883893| 105652.97152851892|\n",
      "+--------------------+--------------------+------------------+-------------------+\n",
      "\n"
     ]
    }
   ],
   "source": [
    "## variance and standard deviation\n",
    "from pyspark.sql.functions import var_pop, stddev_pop\n",
    "from pyspark.sql.functions import var_samp, stddev_samp\n",
    "\n",
    "incomeDF.select(var_pop(\"fnlwgt\"), var_samp(\"fnlwgt\"),\n",
    "  stddev_pop(\"fnlwgt\"), stddev_samp(\"fnlwgt\")).show()"
   ]
  },
  {
   "cell_type": "code",
   "execution_count": 22,
   "metadata": {},
   "outputs": [
    {
     "name": "stdout",
     "output_type": "stream",
     "text": [
      "+-------------------+-------------------+\n",
      "|skewness(totalgain)|kurtosis(totalgain)|\n",
      "+-------------------+-------------------+\n",
      "| 11.876149814824785| 153.24179273163477|\n",
      "+-------------------+-------------------+\n",
      "\n"
     ]
    }
   ],
   "source": [
    "## skewness and kutosis\n",
    "from pyspark.sql.functions import skewness, kurtosis\n",
    "incomeDF.select(skewness(\"totalgain\"), kurtosis(\"totalgain\")).show()"
   ]
  },
  {
   "cell_type": "code",
   "execution_count": 23,
   "metadata": {},
   "outputs": [
    {
     "name": "stdout",
     "output_type": "stream",
     "text": [
      "+--------------------+-----------------------+----------------------+\n",
      "|   corr(fnlwgt, age)|covar_samp(fnlwgt, age)|covar_pop(fnlwgt, age)|\n",
      "+--------------------+-----------------------+----------------------+\n",
      "|-0.07651083605759339|    -106175.33919793477|   -106171.81902887444|\n",
      "+--------------------+-----------------------+----------------------+\n",
      "\n"
     ]
    }
   ],
   "source": [
    "## Covariance and correlation\n",
    "from pyspark.sql.functions import corr, covar_pop, covar_samp\n",
    "incomeDF.select(corr(\"fnlwgt\", \"age\"), covar_samp(\"fnlwgt\", \"age\"),\n",
    "    covar_pop(\"fnlwgt\", \"age\")).show()"
   ]
  },
  {
   "cell_type": "code",
   "execution_count": 24,
   "metadata": {},
   "outputs": [
    {
     "name": "stdout",
     "output_type": "stream",
     "text": [
      "+------+------------------+---------------------+\n",
      "|   sex|       avg(fnlwgt)|stddev_pop(totalgain)|\n",
      "+------+------------------+---------------------+\n",
      "|Female|185926.15048047435|    4923.948589689943|\n",
      "|  Male|191650.24607458292|    8323.749165218294|\n",
      "+------+------------------+---------------------+\n",
      "\n"
     ]
    }
   ],
   "source": [
    "## grouping with agg\n",
    "incomeDF.groupBy(\"sex\").agg(expr(\"avg(fnlwgt)\"),expr(\"stddev_pop(totalgain)\")).show()"
   ]
  },
  {
   "cell_type": "code",
   "execution_count": 25,
   "metadata": {},
   "outputs": [],
   "source": [
    "## user defined function\n",
    "from pyspark.sql.types import StringType\n",
    "from pyspark.sql.functions import udf\n",
    "\n",
    "Function1 = udf(lambda x: 'less' if x <= 1000 else \"high\", StringType())"
   ]
  },
  {
   "cell_type": "code",
   "execution_count": 26,
   "metadata": {},
   "outputs": [
    {
     "name": "stdout",
     "output_type": "stream",
     "text": [
      "+---+----------------+--------+---------+-------------+------------------+-----------------+-------------+-----+------+------------+-------------+-----+---------+-----------+\n",
      "|age|       workclass|  fnlwgt|education|education_num|     maritalstatus|       occupation| relationship| race|   sex|hoursperweek|nativecountry|class|totalgain|New_udf_col|\n",
      "+---+----------------+--------+---------+-------------+------------------+-----------------+-------------+-----+------+------------+-------------+-----+---------+-----------+\n",
      "| 39|       State-gov| 77516.0|Bachelors|         13.0|     Never-married|     Adm-clerical|Not-in-family|White|  Male|        40.0|United-States|<=50K|   2174.0|       high|\n",
      "| 50|Self-emp-not-inc| 83311.0|Bachelors|         13.0|Married-civ-spouse|  Exec-managerial|      Husband|White|  Male|        13.0|United-States|<=50K|      0.0|       less|\n",
      "| 38|         Private|215646.0|  HS-grad|          9.0|          Divorced|Handlers-cleaners|Not-in-family|White|  Male|        40.0|United-States|<=50K|      0.0|       less|\n",
      "| 53|         Private|234721.0|     11th|          7.0|Married-civ-spouse|Handlers-cleaners|      Husband|Black|  Male|        40.0|United-States|<=50K|      0.0|       less|\n",
      "| 28|         Private|338409.0|Bachelors|         13.0|Married-civ-spouse|   Prof-specialty|         Wife|Black|Female|        40.0|         Cuba|<=50K|      0.0|       less|\n",
      "+---+----------------+--------+---------+-------------+------------------+-----------------+-------------+-----+------+------------+-------------+-----+---------+-----------+\n",
      "only showing top 5 rows\n",
      "\n"
     ]
    }
   ],
   "source": [
    "incomeDF = incomeDF.withColumn(\"New_udf_col\",Function1(incomeDF[\"totalgain\"]))\n",
    "incomeDF.show(5)"
   ]
  },
  {
   "cell_type": "code",
   "execution_count": 27,
   "metadata": {},
   "outputs": [
    {
     "name": "stdout",
     "output_type": "stream",
     "text": [
      "+---+----------------+--------+---------+-------------+------------------+-----------------+-------------+-----+------+------------+-------------+-----+---------+-----------+\n",
      "|age|       workclass|  fnlwgt|education|education_num|     maritalstatus|       occupation| relationship| race|   sex|hoursperweek|nativecountry|class|totalgain|New_udf_col|\n",
      "+---+----------------+--------+---------+-------------+------------------+-----------------+-------------+-----+------+------------+-------------+-----+---------+-----------+\n",
      "| 39|       State-gov| 77516.0|Bachelors|         13.0|     Never-married|     Adm-clerical|Not-in-family|White|  Male|        40.0|United-States|<=50K|   2174.0|       high|\n",
      "| 50|Self-emp-not-inc| 83311.0|Bachelors|         13.0|Married-civ-spouse|  Exec-managerial|      Husband|White|  Male|        13.0|United-States|<=50K|      0.0|       less|\n",
      "| 38|         Private|215646.0|  HS-grad|          9.0|          Divorced|Handlers-cleaners|Not-in-family|White|  Male|        40.0|United-States|<=50K|      0.0|       less|\n",
      "| 53|         Private|234721.0|     11th|          7.0|Married-civ-spouse|Handlers-cleaners|      Husband|Black|  Male|        40.0|United-States|<=50K|      0.0|       less|\n",
      "| 28|         Private|338409.0|Bachelors|         13.0|Married-civ-spouse|   Prof-specialty|         Wife|Black|Female|        40.0|         Cuba|<=50K|      0.0|       less|\n",
      "+---+----------------+--------+---------+-------------+------------------+-----------------+-------------+-----+------+------------+-------------+-----+---------+-----------+\n",
      "only showing top 5 rows\n",
      "\n"
     ]
    }
   ],
   "source": [
    "incomeDF.show(5)"
   ]
  },
  {
   "cell_type": "code",
   "execution_count": 29,
   "metadata": {},
   "outputs": [
    {
     "name": "stdout",
     "output_type": "stream",
     "text": [
      "+---------+-------------+-------------+-------------+\n",
      "|education|education_num|education_num|education_num|\n",
      "+---------+-------------+-------------+-------------+\n",
      "|     13.0|         13.0|         13.0|         13.0|\n",
      "|     13.0|         13.0|         13.0|         13.0|\n",
      "+---------+-------------+-------------+-------------+\n",
      "only showing top 2 rows\n",
      "\n"
     ]
    }
   ],
   "source": [
    "## Multiple ways of referring a column in a dataframe\n",
    "from pyspark.sql.functions import expr, col, column\n",
    "\n",
    "incomeDF.select(expr(\"education_num AS education\") , col(\"education_num\"), column(\"education_num\"), \"education_num\").show(2)"
   ]
  },
  {
   "cell_type": "code",
   "execution_count": 30,
   "metadata": {},
   "outputs": [
    {
     "name": "stdout",
     "output_type": "stream",
     "text": [
      "+-------------+---------+\n",
      "|education_num|totalgain|\n",
      "+-------------+---------+\n",
      "|         13.0|   2174.0|\n",
      "|         13.0|      0.0|\n",
      "+-------------+---------+\n",
      "only showing top 2 rows\n",
      "\n"
     ]
    }
   ],
   "source": [
    "incomeDF.selectExpr(\"education_num AS education_num\", \"totalgain AS totalgain\").show(2)"
   ]
  },
  {
   "cell_type": "code",
   "execution_count": 31,
   "metadata": {},
   "outputs": [
    {
     "name": "stdout",
     "output_type": "stream",
     "text": [
      "+---+----------------+-------+---------+---------+------------------+---------------+-------------+-----+----+------------+-------------+-----+---------+-----------+\n",
      "|age|       workclass| fnlwgt|education|education|     maritalstatus|     occupation| relationship| race| sex|hoursperweek|nativecountry|class|totalgain|New_udf_col|\n",
      "+---+----------------+-------+---------+---------+------------------+---------------+-------------+-----+----+------------+-------------+-----+---------+-----------+\n",
      "| 39|       State-gov|77516.0|Bachelors|     13.0|     Never-married|   Adm-clerical|Not-in-family|White|Male|        40.0|United-States|<=50K|   2174.0|       high|\n",
      "| 50|Self-emp-not-inc|83311.0|Bachelors|     13.0|Married-civ-spouse|Exec-managerial|      Husband|White|Male|        13.0|United-States|<=50K|      0.0|       less|\n",
      "+---+----------------+-------+---------+---------+------------------+---------------+-------------+-----+----+------------+-------------+-----+---------+-----------+\n",
      "only showing top 2 rows\n",
      "\n"
     ]
    }
   ],
   "source": [
    "##renaming columns\n",
    "incomeDF = incomeDF.withColumnRenamed(\"education_num\", \"education\").show(2)"
   ]
  },
  {
   "cell_type": "code",
   "execution_count": null,
   "metadata": {},
   "outputs": [],
   "source": [
    "## differences in columns\n",
    "## From the above we can see the train file has more categories than test file. \n",
    "## Let us check what are the categories for Product_ID, which are in test file but not in train file by \n",
    "## applying subtract operation.\n",
    "## We can do the same for all categorical features.\n",
    "diff_cat_in_test_train=testDF.select('Product_ID').subtract(trainDF.select('Product_ID'))\n",
    "print(\"Count of Product_ID's there in test dataset but not train dataset are {}\".format(diff_cat_in_test_train.count()))\n",
    "\n",
    "diff_cat_in_train_test=trainDF.select('Product_ID').subtract(testDF.select('Product_ID'))\n",
    "print(\"Count of Product_ID's there in train dataset but not test dataset are {}\".format(diff_cat_in_train_test.count()))"
   ]
  },
  {
   "cell_type": "code",
   "execution_count": 37,
   "metadata": {},
   "outputs": [
    {
     "name": "stdout",
     "output_type": "stream",
     "text": [
      "+---+----------------+-------+---------+-------------+------------------+---------------+-------------+-----+----+-----------+-----------+------------+-------------+-----+\n",
      "|age|       workclass| fnlwgt|education|education_num|     maritalstatus|     occupation| relationship| race| sex|capitalgain|capitalloss|hoursperweek|nativecountry|class|\n",
      "+---+----------------+-------+---------+-------------+------------------+---------------+-------------+-----+----+-----------+-----------+------------+-------------+-----+\n",
      "| 39|       State-gov|77516.0|Bachelors|         13.0|     Never-married|   Adm-clerical|Not-in-family|White|Male|     2174.0|        0.0|        40.0|United-States|<=50K|\n",
      "| 50|Self-emp-not-inc|83311.0|Bachelors|         13.0|Married-civ-spouse|Exec-managerial|      Husband|White|Male|        0.0|        0.0|        13.0|United-States|<=50K|\n",
      "+---+----------------+-------+---------+-------------+------------------+---------------+-------------+-----+----+-----------+-----------+------------+-------------+-----+\n",
      "only showing top 2 rows\n",
      "\n"
     ]
    }
   ],
   "source": [
    "incomeDF.show(2)"
   ]
  },
  {
   "cell_type": "code",
   "execution_count": 42,
   "metadata": {},
   "outputs": [],
   "source": [
    "## Filling with different values for different columns\n",
    "## imputation\n",
    "fill_cols_vals = {\n",
    "\"sex\": 'Male',\n",
    "\"hoursperweek\" : 999 ,\n",
    "\"workclass\" : 'Unknown' ,\n",
    "\"occupation\" : 'Unknown' ,\n",
    "\"nativecountry\" : 'Unknown'\n",
    "}\n",
    "#incomeDF.na.fill(fill_cols_vals).count()\n",
    "incomeimputedDF = incomeDF.na.fill(fill_cols_vals)"
   ]
  },
  {
   "cell_type": "code",
   "execution_count": 44,
   "metadata": {},
   "outputs": [
    {
     "name": "stdout",
     "output_type": "stream",
     "text": [
      "+---+---------+------+---------+-------------+-------------+----------+------------+----+---+-----------+-----------+------------+-------------+-----+\n",
      "|age|workclass|fnlwgt|education|education_num|maritalstatus|occupation|relationship|race|sex|capitalgain|capitalloss|hoursperweek|nativecountry|class|\n",
      "+---+---------+------+---------+-------------+-------------+----------+------------+----+---+-----------+-----------+------------+-------------+-----+\n",
      "|0  |0        |0     |0        |0            |0            |0         |0           |0   |0  |0          |0          |0           |0            |0    |\n",
      "+---+---------+------+---------+-------------+-------------+----------+------------+----+---+-----------+-----------+------------+-------------+-----+\n",
      "\n"
     ]
    }
   ],
   "source": [
    "## verify\n",
    "incomeimputedDF.select([count(when(isnan(c) | col(c).isNull(), c)).alias(c) for c in incomeimputedDF.columns]).show(truncate=False)"
   ]
  },
  {
   "cell_type": "code",
   "execution_count": 47,
   "metadata": {},
   "outputs": [
    {
     "data": {
      "text/plain": [
       "21790"
      ]
     },
     "execution_count": 47,
     "metadata": {},
     "output_type": "execute_result"
    }
   ],
   "source": [
    "## filtering rows\n",
    "incomeDF.where(\"fnlwgt > 0\").where(\"sex = 'Female'\").count()\n",
    "incomeDF.filter(\"fnlwgt > 0\").where(\"sex = 'Male'\").count()\n",
    "incomeDF.where((col(\"fnlwgt\") > 0) & (col(\"sex\") == 'Female')).count()\n",
    "incomeDF.filter((col(\"fnlwgt\") > 0) & (col(\"sex\") == 'Male')).count()"
   ]
  },
  {
   "cell_type": "code",
   "execution_count": 48,
   "metadata": {},
   "outputs": [
    {
     "name": "stdout",
     "output_type": "stream",
     "text": [
      "+---------------------------+-------------------------+\n",
      "|first(maritalstatus, false)|last(relationship, false)|\n",
      "+---------------------------+-------------------------+\n",
      "|              Never-married|                     Wife|\n",
      "+---------------------------+-------------------------+\n",
      "\n"
     ]
    }
   ],
   "source": [
    "## first and last\n",
    "incomeDF.select(first(\"maritalstatus\"), last(\"relationship\")).show()"
   ]
  },
  {
   "cell_type": "code",
   "execution_count": 49,
   "metadata": {},
   "outputs": [
    {
     "name": "stdout",
     "output_type": "stream",
     "text": [
      "+------------------+-----------------+\n",
      "|min(education_num)|max(hoursperweek)|\n",
      "+------------------+-----------------+\n",
      "|               1.0|             99.0|\n",
      "+------------------+-----------------+\n",
      "\n"
     ]
    }
   ],
   "source": [
    "## min and max\n",
    "incomeDF.select(min(\"education_num\"), max(\"hoursperweek\")).show()"
   ]
  },
  {
   "cell_type": "code",
   "execution_count": 50,
   "metadata": {},
   "outputs": [
    {
     "name": "stdout",
     "output_type": "stream",
     "text": [
      "+--------------------+\n",
      "|sum(DISTINCT fnlwgt)|\n",
      "+--------------------+\n",
      "|       4.254454715E9|\n",
      "+--------------------+\n",
      "\n"
     ]
    }
   ],
   "source": [
    "## sum distinct\n",
    "incomeDF.select(sumDistinct(\"fnlwgt\")).show()"
   ]
  },
  {
   "cell_type": "code",
   "execution_count": 51,
   "metadata": {},
   "outputs": [
    {
     "name": "stdout",
     "output_type": "stream",
     "text": [
      "+-----------------------------------+----------------+----------------+\n",
      "|(sum_yrs_of_edu / total_yrs_of_edu)|  avg_yrs_of_edu| mean_yrs_of_edu|\n",
      "+-----------------------------------+----------------+----------------+\n",
      "|                   10.0806793403151|10.0806793403151|10.0806793403151|\n",
      "+-----------------------------------+----------------+----------------+\n",
      "\n"
     ]
    }
   ],
   "source": [
    "## average\n",
    "incomeDF.select(\n",
    "    count(\"education_num\").alias(\"total_yrs_of_edu\"),\n",
    "    sum(\"education_num\").alias(\"sum_yrs_of_edu\"),\n",
    "    avg(\"education_num\").alias(\"avg_yrs_of_edu\"),\n",
    "    expr(\"mean(education_num)\").alias(\"mean_yrs_of_edu\"))\\\n",
    "  .selectExpr(\n",
    "    \"sum_yrs_of_edu/total_yrs_of_edu\",\n",
    "    \"avg_yrs_of_edu\",\n",
    "    \"mean_yrs_of_edu\").show()"
   ]
  },
  {
   "cell_type": "code",
   "execution_count": 52,
   "metadata": {},
   "outputs": [
    {
     "name": "stdout",
     "output_type": "stream",
     "text": [
      "+-------------------------+--------------------------+\n",
      "|collect_set(hoursperweek)|collect_list(hoursperweek)|\n",
      "+-------------------------+--------------------------+\n",
      "|     [98.0, 85.0, 43.0...|      [40.0, 13.0, 40.0...|\n",
      "+-------------------------+--------------------------+\n",
      "\n"
     ]
    }
   ],
   "source": [
    "## complex aggregations\n",
    "incomeDF.agg(collect_set(\"hoursperweek\"), collect_list(\"hoursperweek\")).show()"
   ]
  },
  {
   "cell_type": "code",
   "execution_count": 53,
   "metadata": {},
   "outputs": [
    {
     "name": "stdout",
     "output_type": "stream",
     "text": [
      "+------------+-----+-------------------+\n",
      "|   education|hours|count(hoursperweek)|\n",
      "+------------+-----+-------------------+\n",
      "|     Masters| 1723|               1723|\n",
      "|        10th|  933|                933|\n",
      "|     5th-6th|  333|                333|\n",
      "|  Assoc-acdm| 1067|               1067|\n",
      "|   Assoc-voc| 1382|               1382|\n",
      "|     7th-8th|  646|                646|\n",
      "|         9th|  514|                514|\n",
      "|     HS-grad|10501|              10501|\n",
      "|   Bachelors| 5355|               5355|\n",
      "|        11th| 1175|               1175|\n",
      "|     1st-4th|  168|                168|\n",
      "|   Preschool|   51|                 51|\n",
      "|        12th|  433|                433|\n",
      "|   Doctorate|  413|                413|\n",
      "|Some-college| 7291|               7291|\n",
      "| Prof-school|  576|                576|\n",
      "+------------+-----+-------------------+\n",
      "\n"
     ]
    }
   ],
   "source": [
    "## grouping with agg expressions and maps\n",
    "incomeDF.groupBy(\"education\").agg(\n",
    "  count(\"hoursperweek\").alias(\"hours\"),\n",
    "  expr(\"count(hoursperweek)\")).show()"
   ]
  },
  {
   "cell_type": "code",
   "execution_count": 54,
   "metadata": {},
   "outputs": [
    {
     "name": "stdout",
     "output_type": "stream",
     "text": [
      "+--------------------+------------------+------------------+\n",
      "|       maritalstatus|       avg(fnlwgt)|stddev_pop(fnlwgt)|\n",
      "+--------------------+------------------+------------------+\n",
      "|           Separated|206444.32585365855|117543.94573012274|\n",
      "|       Never-married| 195383.3089956005|107760.31075328245|\n",
      "|Married-spouse-ab...|193141.76076555025|114800.03124474503|\n",
      "|            Divorced|185802.79045689848|105634.89966249929|\n",
      "|             Widowed| 174159.0422960725| 93958.03336565649|\n",
      "|   Married-AF-spouse| 188165.5652173913|136794.38604035907|\n",
      "|  Married-civ-spouse|186763.17287660256|103094.10086160518|\n",
      "+--------------------+------------------+------------------+\n",
      "\n"
     ]
    }
   ],
   "source": [
    "## grouping with maps\n",
    "incomeDF.groupBy(\"maritalstatus\").agg(expr(\"avg(fnlwgt)\"),expr(\"stddev_pop(fnlwgt)\")).show()"
   ]
  },
  {
   "cell_type": "code",
   "execution_count": 55,
   "metadata": {},
   "outputs": [
    {
     "name": "stdout",
     "output_type": "stream",
     "text": [
      "+--------------------+------------------+\n",
      "|       maritalstatus|       avg(fnlwgt)|\n",
      "+--------------------+------------------+\n",
      "|           Separated|206444.32585365855|\n",
      "|       Never-married| 195383.3089956005|\n",
      "|Married-spouse-ab...|193141.76076555025|\n",
      "|            Divorced|185802.79045689848|\n",
      "|             Widowed| 174159.0422960725|\n",
      "|   Married-AF-spouse| 188165.5652173913|\n",
      "|  Married-civ-spouse|186763.17287660256|\n",
      "+--------------------+------------------+\n",
      "\n",
      "+--------------------+-------------+\n",
      "|       maritalstatus|  sum(fnlwgt)|\n",
      "+--------------------+-------------+\n",
      "|           Separated| 2.11605434E8|\n",
      "|       Never-married| 2.08727989E9|\n",
      "|Married-spouse-ab...|  8.0733256E7|\n",
      "|            Divorced| 8.25521798E8|\n",
      "|             Widowed| 1.72939929E8|\n",
      "|   Married-AF-spouse|    4327808.0|\n",
      "|  Married-civ-spouse|2.796965277E9|\n",
      "+--------------------+-------------+\n",
      "\n"
     ]
    }
   ],
   "source": [
    "## To find the mean sum  of each age group in train dataset - Average purchases in each age group\n",
    "incomeDF.groupby('maritalstatus').agg({'fnlwgt': 'mean'}).show()\n",
    "incomeDF.groupby('maritalstatus').agg({'fnlwgt': 'sum'}).show()\n"
   ]
  },
  {
   "cell_type": "code",
   "execution_count": 56,
   "metadata": {},
   "outputs": [
    {
     "name": "stdout",
     "output_type": "stream",
     "text": [
      "+--------------------+------------------+------------------+----------------+------------------+-----------------+--------+--------+-----------------+--------------+---------+----------------+-------------+----------+--------------+---------------+\n",
      "|       maritalstatus|sum(maritalstatus)|sum(nativecountry)|sum(capitalgain)|sum(education_num)|sum(hoursperweek)|sum(age)|sum(sex)|sum(relationship)|sum(education)|sum(race)|sum(capitalloss)|  sum(fnlwgt)|sum(class)|sum(workclass)|sum(occupation)|\n",
      "+--------------------+------------------+------------------+----------------+------------------+-----------------+--------+--------+-----------------+--------------+---------+----------------+-------------+----------+--------------+---------------+\n",
      "|           Separated|              null|              null|        548958.0|            9526.0|          40284.0|   40338|    null|             null|          null|     null|         59563.0| 2.11605434E8|      null|          null|           null|\n",
      "|       Never-married|              null|              null|       4023093.0|          106429.0|         394630.0|  300737|    null|             null|          null|     null|        559207.0| 2.08727989E9|      null|          null|           null|\n",
      "|Married-spouse-ab...|              null|              null|        273365.0|            3891.0|          16582.0|   16962|    null|             null|          null|     null|         24152.0|  8.0733256E7|      null|          null|           null|\n",
      "|            Divorced|              null|              null|       3236347.0|           44565.0|         183259.0|  191234|    null|             null|          null|     null|        287021.0| 8.25521798E8|      null|          null|           null|\n",
      "|             Widowed|              null|              null|        567074.0|            9030.0|          32749.0|   58563|    null|             null|          null|     null|         79109.0| 1.72939929E8|      null|          null|           null|\n",
      "|   Married-AF-spouse|              null|              null|          9951.0|             234.0|            946.0|     747|    null|             null|          null|     null|             0.0|    4327808.0|      null|          null|           null|\n",
      "|  Married-civ-spouse|              null|              null|     2.6430536E7|          154562.0|         648234.0|  647676|    null|             null|          null|     null|       1833648.0|2.796965277E9|      null|          null|           null|\n",
      "+--------------------+------------------+------------------+----------------+------------------+-----------------+--------+--------+-----------------+--------------+---------+----------------+-------------+----------+--------------+---------------+\n",
      "\n"
     ]
    }
   ],
   "source": [
    "## Apply sum, min, max for colummns count with groupby to get different summary insight for each group. \n",
    "exprs = {x: \"sum\" for x in incomeDF.columns}\n",
    "incomeDF.groupBy(\"maritalstatus\").agg(exprs).show()"
   ]
  },
  {
   "cell_type": "code",
   "execution_count": null,
   "metadata": {},
   "outputs": [],
   "source": [
    "## joins\n",
    "joinType = \"inner\"\n",
    "person.join(graduateProgram, joinExpression, joinType).show()\n",
    "joinType = \"outer\"\n",
    "person.join(graduateProgram, joinExpression, joinType).show()\n",
    "joinType = \"left_outer\"\n",
    "graduateProgram.join(person, joinExpression, joinType).show()\n",
    "joinType = \"right_outer\"\n",
    "person.join(graduateProgram, joinExpression, joinType).show()\n",
    "person.crossJoin(graduateProgram).show()\n",
    "person.withColumnRenamed(\"id\", \"personId\")\\\n",
    "  .join(roleStatus, expr(\"array_contains(role_status, id)\")).show()"
   ]
  },
  {
   "cell_type": "code",
   "execution_count": 58,
   "metadata": {},
   "outputs": [
    {
     "name": "stdout",
     "output_type": "stream",
     "text": [
      "+---+---------+--------+------------+-------------+-------------+-----------------+--------------+------------------+------+-----------+-----------+------------+-------------+-----+\n",
      "|age|workclass|  fnlwgt|   education|education_num|maritalstatus|       occupation|  relationship|              race|   sex|capitalgain|capitalloss|hoursperweek|nativecountry|class|\n",
      "+---+---------+--------+------------+-------------+-------------+-----------------+--------------+------------------+------+-----------+-----------+------------+-------------+-----+\n",
      "| 90|  Private|313986.0|        11th|          7.0|Never-married|Handlers-cleaners|     Own-child|             White|  Male|        0.0|        0.0|        40.0|United-States|<=50K|\n",
      "| 90|  Private| 51744.0|     Masters|         14.0|Never-married|  Exec-managerial| Not-in-family|             Black|  Male|        0.0|        0.0|        50.0|United-States| >50K|\n",
      "| 90|     null|256514.0|   Bachelors|         13.0|      Widowed|             null|Other-relative|             White|Female|      991.0|        0.0|        10.0|United-States|<=50K|\n",
      "| 90|  Private|137018.0|     HS-grad|          9.0|Never-married|    Other-service| Not-in-family|             White|Female|        0.0|        0.0|        40.0|United-States|<=50K|\n",
      "| 90|  Private| 52386.0|Some-college|         10.0|Never-married|    Other-service| Not-in-family|Asian-Pac-Islander|  Male|        0.0|        0.0|        35.0|United-States|<=50K|\n",
      "+---+---------+--------+------------+-------------+-------------+-----------------+--------------+------------------+------+-----------+-----------+------------+-------------+-----+\n",
      "only showing top 5 rows\n",
      "\n"
     ]
    }
   ],
   "source": [
    "## sorting \n",
    "incomeDF.orderBy(incomeDF.age.desc()).show(5)"
   ]
  },
  {
   "cell_type": "code",
   "execution_count": 59,
   "metadata": {},
   "outputs": [
    {
     "data": {
      "text/plain": [
       "1"
      ]
     },
     "execution_count": 59,
     "metadata": {},
     "output_type": "execute_result"
    }
   ],
   "source": [
    "## get partitions -- repartition and coalesce\n",
    "incomeDF.rdd.getNumPartitions()\n",
    "## Do the repartition\n",
    "## trainDF.repartition(5)\n",
    "\n",
    "## Repartition based on a column\n",
    "## If we know we are going to be filtering by a certain column often, \n",
    "## it can be worth repartitioning based on that column.\n",
    "## incomeDF.repartition(col(“hoursperweek”))\n",
    "\n",
    "## We can optionally specify the number of partitions we would like too.\n",
    "## incomeDF.repartition(5, col(“hoursperweek”))\n",
    "\n",
    "## Coalesce on the other hand will not incur a full shuffle and will try to combine partitions. \n",
    "## This operation will shuffle our data into 5 partitions based on the Purchase, \n",
    "## then coalesce them (without a full shuffle).\n",
    "## incomeDF.repartition(5, col(\"hoursperweek\")).coalesce(2)"
   ]
  },
  {
   "cell_type": "code",
   "execution_count": null,
   "metadata": {},
   "outputs": [],
   "source": [
    "## union\n",
    "df1 = df1.union(df2)"
   ]
  },
  {
   "cell_type": "code",
   "execution_count": 63,
   "metadata": {},
   "outputs": [
    {
     "name": "stdout",
     "output_type": "stream",
     "text": [
      "+--------+----------+\n",
      "|  fnlwgt|fnlwgt_new|\n",
      "+--------+----------+\n",
      "| 77516.0|   38758.0|\n",
      "| 83311.0|   41655.5|\n",
      "|215646.0|  107823.0|\n",
      "|234721.0|  117360.5|\n",
      "|338409.0|  169204.5|\n",
      "+--------+----------+\n",
      "only showing top 5 rows\n",
      "\n"
     ]
    }
   ],
   "source": [
    "## derive calculated column\n",
    "incomeDF.withColumn('fnlwgt_new', incomeDF.fnlwgt /2.0).select('fnlwgt','fnlwgt_new').show(5)"
   ]
  },
  {
   "cell_type": "code",
   "execution_count": null,
   "metadata": {},
   "outputs": [],
   "source": [
    "## To remove some categories of Product_ID column in test that are not present in Product_ID column in train\n",
    "## Use an user defined function ( udf ) to remove the categories of a column which are in test but not in train.\n",
    "## Calculate the categories in Product_ID column which are in test but not in train.\n",
    "diff_cat_in_train_test=testDF.select('Product_ID').subtract(trainDF.select('Product_ID'))\n",
    "diff_cat_in_train_test.count() # For distict count"
   ]
  },
  {
   "cell_type": "code",
   "execution_count": null,
   "metadata": {},
   "outputs": [],
   "source": [
    "## There are 46 different categories in test. \n",
    "## To remove these categories from the test ‘Product_ID’ column.\n",
    "\n",
    "## Create the distinct list of categories called ‘not_found_cat’ from the diff_cat_in_train_test using map operation.\n",
    "## Register a udf(user define function).\n",
    "## User defined function will take each element of test column and search this in not_found_cat list and \n",
    "## it will put -1 ifit finds in this list otherwise it will do nothing.\n",
    "not_found_cat = diff_cat_in_train_test.rdd.map(lambda x: x[0]).collect()\n",
    "print(len(not_found_cat))\n",
    "print(type(not_found_cat))\n",
    "print(not_found_cat)"
   ]
  },
  {
   "cell_type": "code",
   "execution_count": 66,
   "metadata": {},
   "outputs": [
    {
     "name": "stdout",
     "output_type": "stream",
     "text": [
      "+----------------+-----------------+\n",
      "|round(fnlwgt, 2)|bround(fnlwgt, 2)|\n",
      "+----------------+-----------------+\n",
      "|         77516.0|          77516.0|\n",
      "|         83311.0|          83311.0|\n",
      "+----------------+-----------------+\n",
      "only showing top 2 rows\n",
      "\n"
     ]
    }
   ],
   "source": [
    "## ceiling and floor value for round\n",
    "incomeDF.select(round(\"fnlwgt\", 2), bround(\"fnlwgt\",2)).show(2)"
   ]
  },
  {
   "cell_type": "code",
   "execution_count": 68,
   "metadata": {},
   "outputs": [
    {
     "name": "stdout",
     "output_type": "stream",
     "text": [
      "+-----------------------------------------------------------------------------------------------------------+\n",
      "|maritalstatus_freqItems                                                                                    |\n",
      "+-----------------------------------------------------------------------------------------------------------+\n",
      "|[Married-spouse-absent, Never-married, Married-civ-spouse, Widowed, Divorced, Separated, Married-AF-spouse]|\n",
      "+-----------------------------------------------------------------------------------------------------------+\n",
      "\n"
     ]
    }
   ],
   "source": [
    "## sort frequent items\n",
    "incomeDF.stat.freqItems([\"maritalstatus\"]).show(truncate = False)"
   ]
  },
  {
   "cell_type": "code",
   "execution_count": 69,
   "metadata": {},
   "outputs": [
    {
     "name": "stdout",
     "output_type": "stream",
     "text": [
      "+-----------------+----+\n",
      "|       sex_ENCODE| sex|\n",
      "+-----------------+----+\n",
      "|MALE_OR_FEMALEale|Male|\n",
      "|MALE_OR_FEMALEale|Male|\n",
      "+-----------------+----+\n",
      "only showing top 2 rows\n",
      "\n"
     ]
    }
   ],
   "source": [
    "## regular expression\n",
    "regex_string = \"F|M\"\n",
    "\n",
    "incomeDF.select(\n",
    "regexp_replace(col(\"sex\"), regex_string, \"MALE_OR_FEMALE\")\n",
    ".alias(\"sex_ENCODE\"),\n",
    "col(\"sex\"))\\\n",
    ".show(2)"
   ]
  },
  {
   "cell_type": "code",
   "execution_count": 70,
   "metadata": {},
   "outputs": [
    {
     "name": "stdout",
     "output_type": "stream",
     "text": [
      "+---+----------+--------------------+\n",
      "| id|     today|                 now|\n",
      "+---+----------+--------------------+\n",
      "|  0|2018-08-17|2018-08-17 21:03:...|\n",
      "|  1|2018-08-17|2018-08-17 21:03:...|\n",
      "|  2|2018-08-17|2018-08-17 21:03:...|\n",
      "|  3|2018-08-17|2018-08-17 21:03:...|\n",
      "|  4|2018-08-17|2018-08-17 21:03:...|\n",
      "|  5|2018-08-17|2018-08-17 21:03:...|\n",
      "|  6|2018-08-17|2018-08-17 21:03:...|\n",
      "|  7|2018-08-17|2018-08-17 21:03:...|\n",
      "|  8|2018-08-17|2018-08-17 21:03:...|\n",
      "|  9|2018-08-17|2018-08-17 21:03:...|\n",
      "+---+----------+--------------------+\n",
      "\n"
     ]
    }
   ],
   "source": [
    "## date manipulation\n",
    "dateDF = spark.range(10)\\\n",
    ".withColumn(\"today\", current_date())\\\n",
    ".withColumn(\"now\", current_timestamp())\n",
    "dateDF.show()"
   ]
  },
  {
   "cell_type": "code",
   "execution_count": 71,
   "metadata": {},
   "outputs": [
    {
     "name": "stdout",
     "output_type": "stream",
     "text": [
      "+------------------+------------------+\n",
      "|date_sub(today, 5)|date_add(today, 5)|\n",
      "+------------------+------------------+\n",
      "|        2018-08-12|        2018-08-22|\n",
      "+------------------+------------------+\n",
      "only showing top 1 row\n",
      "\n"
     ]
    }
   ],
   "source": [
    "## date part\n",
    "dateDF.select(date_sub(col(\"today\"), 5),date_add(col(\"today\"), 5)).show(1)"
   ]
  },
  {
   "cell_type": "code",
   "execution_count": 73,
   "metadata": {},
   "outputs": [
    {
     "name": "stdout",
     "output_type": "stream",
     "text": [
      "+----------+-------------------------+\n",
      "|     today|datediff(week_ago, today)|\n",
      "+----------+-------------------------+\n",
      "|2018-08-17|                       -7|\n",
      "+----------+-------------------------+\n",
      "only showing top 1 row\n",
      "\n"
     ]
    }
   ],
   "source": [
    "## date addition and subtraction\n",
    "dateDF\\\n",
    ".withColumn(\"week_ago\", date_sub(col(\"today\"), 7))\\\n",
    ".select(\"today\",datediff(col(\"week_ago\"), col(\"today\")))\\\n",
    ".show(1)"
   ]
  },
  {
   "cell_type": "code",
   "execution_count": 74,
   "metadata": {},
   "outputs": [
    {
     "name": "stdout",
     "output_type": "stream",
     "text": [
      "+--------------------------+\n",
      "|months_between(start, end)|\n",
      "+--------------------------+\n",
      "|               -13.5483871|\n",
      "+--------------------------+\n",
      "only showing top 1 row\n",
      "\n"
     ]
    }
   ],
   "source": [
    "## months between\n",
    "dateDF\\\n",
    ".select(\n",
    "to_date(lit(\"2017-01-01\")).alias(\"start\"),\n",
    "to_date(lit(\"2018-02-18\")).alias(\"end\"))\\\n",
    ".select(months_between(col(\"start\"), col(\"end\")))\\\n",
    ".show(1)"
   ]
  },
  {
   "cell_type": "code",
   "execution_count": 75,
   "metadata": {},
   "outputs": [
    {
     "data": {
      "text/plain": [
       "8.0"
      ]
     },
     "execution_count": 75,
     "metadata": {},
     "output_type": "execute_result"
    }
   ],
   "source": [
    "## udf power ** 3\n",
    "udfExampleDF = spark.range(5).toDF(\"num\")\n",
    "\n",
    "def power3(double_value):\n",
    "    return double_value ** 3\n",
    "\n",
    "power3(2.0)"
   ]
  },
  {
   "cell_type": "code",
   "execution_count": 78,
   "metadata": {},
   "outputs": [
    {
     "data": {
      "text/plain": [
       "[Row(age=25, name='Alpha'),\n",
       " Row(age=22, name='Beta'),\n",
       " Row(age=20, name='Charlie'),\n",
       " Row(age=22, name='Delta'),\n",
       " Row(age=21, name='Echo'),\n",
       " Row(age=22, name='France'),\n",
       " Row(age=23, name='Gamma')]"
      ]
     },
     "execution_count": 78,
     "metadata": {},
     "output_type": "execute_result"
    }
   ],
   "source": [
    "## parallelize\n",
    "from pyspark.sql import Row\n",
    "myList = [('Alpha',25),('Beta',22),('Charlie',20),('Delta',22), ('Echo',21),('France',22),('Gamma',23)]\n",
    "rdd = sc.parallelize(myList)\n",
    "people = rdd.map(lambda x: Row(name=x[0], age=int(x[1])))\n",
    "people.collect()"
   ]
  },
  {
   "cell_type": "code",
   "execution_count": 79,
   "metadata": {},
   "outputs": [
    {
     "data": {
      "text/plain": [
       "{'Analytics': 200,\n",
       " 'Big': -300,\n",
       " 'Data': 100,\n",
       " 'Optimization': 400,\n",
       " 'Postgraduate': 1000,\n",
       " 'Program': 100}"
      ]
     },
     "execution_count": 79,
     "metadata": {},
     "output_type": "execute_result"
    }
   ],
   "source": [
    "## broadcast variables\n",
    "my_collection = \"Postgraduate Program in Big Data Analytics and Optimization\"\\\n",
    "  .split(\" \")\n",
    "    \n",
    "words = spark.sparkContext.parallelize(my_collection)\n",
    "supplementalData = {\"Postgraduate\":1000, \"Analytics\":200, \"Optimization\": 400,\n",
    "                    \"Big\":-300, \"Data\": 100, \"Program\":100}\n",
    "suppBroadcast = spark.sparkContext.broadcast(supplementalData)\n",
    "suppBroadcast.value"
   ]
  },
  {
   "cell_type": "code",
   "execution_count": 80,
   "metadata": {},
   "outputs": [
    {
     "data": {
      "text/plain": [
       "[('Big', -300),\n",
       " ('in', 0),\n",
       " ('and', 0),\n",
       " ('Program', 100),\n",
       " ('Data', 100),\n",
       " ('Analytics', 200),\n",
       " ('Optimization', 400),\n",
       " ('Postgraduate', 1000)]"
      ]
     },
     "execution_count": 80,
     "metadata": {},
     "output_type": "execute_result"
    }
   ],
   "source": [
    "words.map(lambda word: (word, suppBroadcast.value.get(word, 0)))\\\n",
    "  .sortBy(lambda wordPair: wordPair[1])\\\n",
    "  .collect()"
   ]
  },
  {
   "cell_type": "code",
   "execution_count": null,
   "metadata": {},
   "outputs": [],
   "source": [
    "## accumulator\n",
    "accIND = spark.sparkContext.accumulator(0)"
   ]
  },
  {
   "cell_type": "code",
   "execution_count": 81,
   "metadata": {},
   "outputs": [],
   "source": [
    "def accINDFunc(each_row):\n",
    "    countryCD = each_row[\"NationCode\"]\n",
    "    list_ctrys = [\"IND\", \"SRI\", \"PAK\", \"BAN\"]\n",
    "    if countryCD in list_ctrys:\n",
    "        accIND.add(each_row[\"Total\"])"
   ]
  },
  {
   "cell_type": "code",
   "execution_count": 83,
   "metadata": {},
   "outputs": [],
   "source": [
    "## call the func\n",
    "#cwgDF.foreach(lambda each_row: accINDFunc(each_row))\n",
    "# check the value\n",
    "accIND"
   ]
  },
  {
   "cell_type": "code",
   "execution_count": null,
   "metadata": {},
   "outputs": [],
   "source": []
  }
 ],
 "metadata": {
  "kernelspec": {
   "display_name": "Python 3",
   "language": "python",
   "name": "python3"
  },
  "language_info": {
   "codemirror_mode": {
    "name": "ipython",
    "version": 3
   },
   "file_extension": ".py",
   "mimetype": "text/x-python",
   "name": "python",
   "nbconvert_exporter": "python",
   "pygments_lexer": "ipython3",
   "version": "3.6.5"
  }
 },
 "nbformat": 4,
 "nbformat_minor": 2
}
